{
 "cells": [
  {
   "cell_type": "code",
   "execution_count": 1,
   "metadata": {},
   "outputs": [],
   "source": [
    "import findspark\n",
    "findspark.init('/home/hduser/spark')\n",
    "import pyspark"
   ]
  },
  {
   "cell_type": "code",
   "execution_count": 2,
   "metadata": {},
   "outputs": [],
   "source": [
    "from pyspark.sql import SparkSession\n",
    "\n",
    "spark = SparkSession \\\n",
    "            .builder \\\n",
    "            .appName(\"FireDeptCallsAnalysis\") \\\n",
    "            .getOrCreate()"
   ]
  },
  {
   "cell_type": "code",
   "execution_count": 3,
   "metadata": {},
   "outputs": [],
   "source": [
    "from pyspark.sql.types import StructType, StructField\n",
    "from pyspark.sql.types import IntegerType, StringType, BooleanType"
   ]
  },
  {
   "cell_type": "code",
   "execution_count": 4,
   "metadata": {},
   "outputs": [],
   "source": [
    "mySchema = StructType([StructField('CallNumber', IntegerType(), True), #Removed the space between Call Number\n",
    "                       StructField('UnitID', StringType(), True),\n",
    "                       StructField('IncidentNumber', IntegerType(), True),\n",
    "                       StructField('CallType', StringType(), True),\n",
    "                       StructField('CallDate', StringType(), True),\n",
    "                       StructField('WatchDate', StringType(), True),\n",
    "                       StructField('ReceivedDtTm', StringType(), True),\n",
    "                       StructField('EntryDtTm', StringType(), True),\n",
    "                       StructField('DispatchDtTm', StringType(), True),\n",
    "                       StructField('ResponseDtTm', StringType(), True),\n",
    "                       StructField('OnSceneDtTm', StringType(), True),\n",
    "                       StructField('TransportDtTm', StringType(), True),\n",
    "                       StructField('HospitalDtTm', StringType(), True),\n",
    "                       StructField('CallFinalDisposition', StringType(), True),\n",
    "                       StructField('AvailableDtTm', StringType(), True),\n",
    "                       StructField('Address', StringType(), True),\n",
    "                       StructField('City', StringType(), True),\n",
    "                       StructField('ZipcodeofIncident', IntegerType(), True),\n",
    "                       StructField('Battalion', StringType(), True),\n",
    "                       StructField('StationArea', StringType(), True),\n",
    "                       StructField('Box', StringType(), True),\n",
    "                       StructField('OriginalPriority', StringType(), True),\n",
    "                       StructField('Priority', StringType(), True),\n",
    "                       StructField('FinalPriority', IntegerType(), True),\n",
    "                       StructField('ALSUnit', BooleanType(), True),\n",
    "                       StructField('CallTypeGroup', StringType(), True),\n",
    "                       StructField('NumberofAlarms', IntegerType(), True),\n",
    "                       StructField('UnitType', StringType(), True),\n",
    "                       StructField('Unitsequenceincalldispatch', IntegerType(), True),\n",
    "                       StructField('FirePreventionDistrict', StringType(), True),\n",
    "                       StructField('SupervisorDistrict', StringType(), True),\n",
    "                       StructField('Neighborhooods_AnalysisBoundaries', StringType(), True), \n",
    "                       StructField('Location', StringType(), True),\n",
    "                       StructField('RowID', StringType(), True),\n",
    "                       StructField('SupervisorDistricts', StringType(), True),\n",
    "                       StructField('FirePreventionDistricts', StringType(), True),\n",
    "                       StructField('CurrentPoliceDistricts', StringType(), True),\n",
    "                       StructField('Neighborhoods_AnalysisBoundaries', StringType(), True),\n",
    "                       StructField('ZipCodes', IntegerType(), True),\n",
    "                       StructField('Neighborhoods(old)', StringType(), True),                       \n",
    "                       StructField('PoliceDistricts', StringType(), True),\n",
    "                       StructField('CivicCenterHarmReductionProjectBoundary', StringType(), True),\n",
    "                       StructField('HSOCZones', StringType(), True),\n",
    "                       StructField('CentralMarket/TenderloinBoundaryPolygon', StringType(), True)\n",
    "                      ])"
   ]
  },
  {
   "cell_type": "code",
   "execution_count": 5,
   "metadata": {},
   "outputs": [],
   "source": [
    "df = spark.read.csv(\"/home/hduser/Fire_Department_Calls_for_Service.csv\", header = True,schema = mySchema)"
   ]
  },
  {
   "cell_type": "markdown",
   "metadata": {},
   "source": [
    "## Print the first five records in the DataFrame"
   ]
  },
  {
   "cell_type": "code",
   "execution_count": 6,
   "metadata": {},
   "outputs": [
    {
     "name": "stdout",
     "output_type": "stream",
     "text": [
      "+----------+------+--------------+----------------+----------+----------+--------------------+--------------------+--------------------+--------------------+--------------------+--------------------+--------------------+--------------------+--------------------+--------------------+-------------+-----------------+---------+-----------+----+----------------+--------+-------------+-------+--------------------+--------------+--------+--------------------------+----------------------+------------------+---------------------------------+--------------------+--------------+-------------------+-----------------------+----------------------+--------------------------------+--------+------------------+---------------+---------------------------------------+---------+---------------------------------------+\n",
      "|CallNumber|UnitID|IncidentNumber|        CallType|  CallDate| WatchDate|        ReceivedDtTm|           EntryDtTm|        DispatchDtTm|        ResponseDtTm|         OnSceneDtTm|       TransportDtTm|        HospitalDtTm|CallFinalDisposition|       AvailableDtTm|             Address|         City|ZipcodeofIncident|Battalion|StationArea| Box|OriginalPriority|Priority|FinalPriority|ALSUnit|       CallTypeGroup|NumberofAlarms|UnitType|Unitsequenceincalldispatch|FirePreventionDistrict|SupervisorDistrict|Neighborhooods_AnalysisBoundaries|            Location|         RowID|SupervisorDistricts|FirePreventionDistricts|CurrentPoliceDistricts|Neighborhoods_AnalysisBoundaries|ZipCodes|Neighborhoods(old)|PoliceDistricts|CivicCenterHarmReductionProjectBoundary|HSOCZones|CentralMarket/TenderloinBoundaryPolygon|\n",
      "+----------+------+--------------+----------------+----------+----------+--------------------+--------------------+--------------------+--------------------+--------------------+--------------------+--------------------+--------------------+--------------------+--------------------+-------------+-----------------+---------+-----------+----+----------------+--------+-------------+-------+--------------------+--------------+--------+--------------------------+----------------------+------------------+---------------------------------+--------------------+--------------+-------------------+-----------------------+----------------------+--------------------------------+--------+------------------+---------------+---------------------------------------+---------+---------------------------------------+\n",
      "| 201560006|    86|      20064818|Medical Incident|06/04/2020|06/03/2020|06/04/2020 12:00:...|06/04/2020 12:02:...|06/04/2020 12:02:...|06/04/2020 12:02:...|06/04/2020 12:15:...|06/04/2020 12:37:...|06/04/2020 12:48:...|    Code 2 Transport|06/04/2020 01:22:...|1400 Block of HAL...|Treasure Isla|            94130|      B03|         48|2931|               3|       2|            2|   true|Non Life-threatening|             1|   MEDIC|                         3|                  None|                 6|                  Treasure Island|(37.8247216432687...|  201560006-86|                  9|                   null|                     2|                              37|      62|                37|              2|                                   null|     null|                                   null|\n",
      "| 201560006|   E48|      20064818|Medical Incident|06/04/2020|06/03/2020|06/04/2020 12:00:...|06/04/2020 12:02:...|06/04/2020 12:02:...|06/04/2020 12:04:...|06/04/2020 12:07:...|                null|                null|    Code 2 Transport|06/04/2020 12:21:...|1400 Block of HAL...|Treasure Isla|            94130|      B03|         48|2931|               3|       2|            2|   true|Non Life-threatening|             1|  ENGINE|                         1|                  None|                 6|                  Treasure Island|(37.8247216432687...| 201560006-E48|                  9|                   null|                     2|                              37|      62|                37|              2|                                   null|     null|                                   null|\n",
      "| 201560006|  RA48|      20064818|Medical Incident|06/04/2020|06/03/2020|06/04/2020 12:00:...|06/04/2020 12:02:...|06/04/2020 12:02:...|06/04/2020 12:04:...|06/04/2020 12:07:...|                null|                null|    Code 2 Transport|06/04/2020 12:22:...|1400 Block of HAL...|Treasure Isla|            94130|      B03|         48|2931|               3|       2|            2|  false|Non Life-threatening|             1|   MEDIC|                         2|                  None|                 6|                  Treasure Island|(37.8247216432687...|201560006-RA48|                  9|                   null|                     2|                              37|      62|                37|              2|                                   null|     null|                                   null|\n",
      "| 201560012|    94|      20064819|Medical Incident|06/04/2020|06/03/2020|06/04/2020 12:03:...|06/04/2020 12:05:...|06/04/2020 12:05:...|06/04/2020 12:06:...|06/04/2020 12:16:...|06/04/2020 12:37:...|06/04/2020 12:39:...|    Code 2 Transport|06/04/2020 01:11:...|3100 Block of MIS...|San Francisco|            94110|      B06|         11|5624|               2|       2|            2|   true|Non Life-threatening|             1|   MEDIC|                         1|                     6|                 9|                   Bernal Heights|(37.7464537868983...|  201560012-94|                  7|                      2|                     4|                               2|   28859|                 2|              7|                                   null|     null|                                   null|\n",
      "| 201560019|   E01|      20064820|    Outside Fire|06/04/2020|06/03/2020|06/04/2020 12:09:...|06/04/2020 12:11:...|06/04/2020 12:11:...|06/04/2020 12:13:...|                null|                null|                null|                Fire|06/04/2020 12:20:...|100 Block of STEV...|San Francisco|            94105|      B03|         01|2144|               3|       3|            3|   true|                Fire|             1|  ENGINE|                         1|                     3|                 6|             Financial Distric...|(37.7885032843181...| 201560019-E01|                  9|                     12|                     2|                               8|   28855|                 6|              2|                                   null|     null|                                   null|\n",
      "+----------+------+--------------+----------------+----------+----------+--------------------+--------------------+--------------------+--------------------+--------------------+--------------------+--------------------+--------------------+--------------------+--------------------+-------------+-----------------+---------+-----------+----+----------------+--------+-------------+-------+--------------------+--------------+--------+--------------------------+----------------------+------------------+---------------------------------+--------------------+--------------+-------------------+-----------------------+----------------------+--------------------------------+--------+------------------+---------------+---------------------------------------+---------+---------------------------------------+\n",
      "only showing top 5 rows\n",
      "\n"
     ]
    }
   ],
   "source": [
    "df.show(5)"
   ]
  },
  {
   "cell_type": "code",
   "execution_count": 7,
   "metadata": {},
   "outputs": [
    {
     "data": {
      "text/plain": [
       "Row(CallNumber=201560006, UnitID='86', IncidentNumber=20064818, CallType='Medical Incident', CallDate='06/04/2020', WatchDate='06/03/2020', ReceivedDtTm='06/04/2020 12:00:17 AM', EntryDtTm='06/04/2020 12:02:00 AM', DispatchDtTm='06/04/2020 12:02:09 AM', ResponseDtTm='06/04/2020 12:02:13 AM', OnSceneDtTm='06/04/2020 12:15:50 AM', TransportDtTm='06/04/2020 12:37:17 AM', HospitalDtTm='06/04/2020 12:48:15 AM', CallFinalDisposition='Code 2 Transport', AvailableDtTm='06/04/2020 01:22:59 AM', Address='1400 Block of HALIBUT CT', City='Treasure Isla', ZipcodeofIncident=94130, Battalion='B03', StationArea='48', Box='2931', OriginalPriority='3', Priority='2', FinalPriority=2, ALSUnit=True, CallTypeGroup='Non Life-threatening', NumberofAlarms=1, UnitType='MEDIC', Unitsequenceincalldispatch=3, FirePreventionDistrict='None', SupervisorDistrict='6', Neighborhooods_AnalysisBoundaries='Treasure Island', Location='(37.824721643268795, -122.37496639605757)', RowID='201560006-86', SupervisorDistricts='9', FirePreventionDistricts=None, CurrentPoliceDistricts='2', Neighborhoods_AnalysisBoundaries='37', ZipCodes=62, Neighborhoods(old)='37', PoliceDistricts='2', CivicCenterHarmReductionProjectBoundary=None, HSOCZones=None, CentralMarket/TenderloinBoundaryPolygon=None)"
      ]
     },
     "execution_count": 7,
     "metadata": {},
     "output_type": "execute_result"
    }
   ],
   "source": [
    "df.head()"
   ]
  },
  {
   "cell_type": "code",
   "execution_count": 8,
   "metadata": {},
   "outputs": [
    {
     "name": "stdout",
     "output_type": "stream",
     "text": [
      "root\n",
      " |-- CallNumber: integer (nullable = true)\n",
      " |-- UnitID: string (nullable = true)\n",
      " |-- IncidentNumber: integer (nullable = true)\n",
      " |-- CallType: string (nullable = true)\n",
      " |-- CallDate: string (nullable = true)\n",
      " |-- WatchDate: string (nullable = true)\n",
      " |-- ReceivedDtTm: string (nullable = true)\n",
      " |-- EntryDtTm: string (nullable = true)\n",
      " |-- DispatchDtTm: string (nullable = true)\n",
      " |-- ResponseDtTm: string (nullable = true)\n",
      " |-- OnSceneDtTm: string (nullable = true)\n",
      " |-- TransportDtTm: string (nullable = true)\n",
      " |-- HospitalDtTm: string (nullable = true)\n",
      " |-- CallFinalDisposition: string (nullable = true)\n",
      " |-- AvailableDtTm: string (nullable = true)\n",
      " |-- Address: string (nullable = true)\n",
      " |-- City: string (nullable = true)\n",
      " |-- ZipcodeofIncident: integer (nullable = true)\n",
      " |-- Battalion: string (nullable = true)\n",
      " |-- StationArea: string (nullable = true)\n",
      " |-- Box: string (nullable = true)\n",
      " |-- OriginalPriority: string (nullable = true)\n",
      " |-- Priority: string (nullable = true)\n",
      " |-- FinalPriority: integer (nullable = true)\n",
      " |-- ALSUnit: boolean (nullable = true)\n",
      " |-- CallTypeGroup: string (nullable = true)\n",
      " |-- NumberofAlarms: integer (nullable = true)\n",
      " |-- UnitType: string (nullable = true)\n",
      " |-- Unitsequenceincalldispatch: integer (nullable = true)\n",
      " |-- FirePreventionDistrict: string (nullable = true)\n",
      " |-- SupervisorDistrict: string (nullable = true)\n",
      " |-- Neighborhooods_AnalysisBoundaries: string (nullable = true)\n",
      " |-- Location: string (nullable = true)\n",
      " |-- RowID: string (nullable = true)\n",
      " |-- SupervisorDistricts: string (nullable = true)\n",
      " |-- FirePreventionDistricts: string (nullable = true)\n",
      " |-- CurrentPoliceDistricts: string (nullable = true)\n",
      " |-- Neighborhoods_AnalysisBoundaries: string (nullable = true)\n",
      " |-- ZipCodes: integer (nullable = true)\n",
      " |-- Neighborhoods(old): string (nullable = true)\n",
      " |-- PoliceDistricts: string (nullable = true)\n",
      " |-- CivicCenterHarmReductionProjectBoundary: string (nullable = true)\n",
      " |-- HSOCZones: string (nullable = true)\n",
      " |-- CentralMarket/TenderloinBoundaryPolygon: string (nullable = true)\n",
      "\n"
     ]
    }
   ],
   "source": [
    "df.printSchema()"
   ]
  },
  {
   "cell_type": "markdown",
   "metadata": {},
   "source": [
    "## Print the column names in the dataframe. "
   ]
  },
  {
   "cell_type": "code",
   "execution_count": 9,
   "metadata": {},
   "outputs": [
    {
     "data": {
      "text/plain": [
       "['CallNumber',\n",
       " 'UnitID',\n",
       " 'IncidentNumber',\n",
       " 'CallType',\n",
       " 'CallDate',\n",
       " 'WatchDate',\n",
       " 'ReceivedDtTm',\n",
       " 'EntryDtTm',\n",
       " 'DispatchDtTm',\n",
       " 'ResponseDtTm',\n",
       " 'OnSceneDtTm',\n",
       " 'TransportDtTm',\n",
       " 'HospitalDtTm',\n",
       " 'CallFinalDisposition',\n",
       " 'AvailableDtTm',\n",
       " 'Address',\n",
       " 'City',\n",
       " 'ZipcodeofIncident',\n",
       " 'Battalion',\n",
       " 'StationArea',\n",
       " 'Box',\n",
       " 'OriginalPriority',\n",
       " 'Priority',\n",
       " 'FinalPriority',\n",
       " 'ALSUnit',\n",
       " 'CallTypeGroup',\n",
       " 'NumberofAlarms',\n",
       " 'UnitType',\n",
       " 'Unitsequenceincalldispatch',\n",
       " 'FirePreventionDistrict',\n",
       " 'SupervisorDistrict',\n",
       " 'Neighborhooods_AnalysisBoundaries',\n",
       " 'Location',\n",
       " 'RowID',\n",
       " 'SupervisorDistricts',\n",
       " 'FirePreventionDistricts',\n",
       " 'CurrentPoliceDistricts',\n",
       " 'Neighborhoods_AnalysisBoundaries',\n",
       " 'ZipCodes',\n",
       " 'Neighborhoods(old)',\n",
       " 'PoliceDistricts',\n",
       " 'CivicCenterHarmReductionProjectBoundary',\n",
       " 'HSOCZones',\n",
       " 'CentralMarket/TenderloinBoundaryPolygon']"
      ]
     },
     "execution_count": 9,
     "metadata": {},
     "output_type": "execute_result"
    }
   ],
   "source": [
    "df.columns"
   ]
  },
  {
   "cell_type": "markdown",
   "metadata": {},
   "source": [
    "## Count the number of rows in the DataFrame "
   ]
  },
  {
   "cell_type": "code",
   "execution_count": 10,
   "metadata": {},
   "outputs": [
    {
     "data": {
      "text/plain": [
       "5324768"
      ]
     },
     "execution_count": 10,
     "metadata": {},
     "output_type": "execute_result"
    }
   ],
   "source": [
    "df.count()"
   ]
  },
  {
   "cell_type": "markdown",
   "metadata": {},
   "source": [
    "## How many different types of calls were made to the Fire Department? "
   ]
  },
  {
   "cell_type": "code",
   "execution_count": 11,
   "metadata": {},
   "outputs": [
    {
     "name": "stdout",
     "output_type": "stream",
     "text": [
      "+--------------------------------------------+\n",
      "|CallType                                    |\n",
      "+--------------------------------------------+\n",
      "|Elevator / Escalator Rescue                 |\n",
      "|Marine Fire                                 |\n",
      "|Aircraft Emergency                          |\n",
      "|Confined Space / Structure Collapse         |\n",
      "|Administrative                              |\n",
      "|Alarms                                      |\n",
      "|Odor (Strange / Unknown)                    |\n",
      "|Lightning Strike (Investigation)            |\n",
      "|Citizen Assist / Service Call               |\n",
      "|HazMat                                      |\n",
      "|Watercraft in Distress                      |\n",
      "|Explosion                                   |\n",
      "|Oil Spill                                   |\n",
      "|Vehicle Fire                                |\n",
      "|Suspicious Package                          |\n",
      "|Train / Rail Fire                           |\n",
      "|Extrication / Entrapped (Machinery, Vehicle)|\n",
      "|Other                                       |\n",
      "|Outside Fire                                |\n",
      "|Traffic Collision                           |\n",
      "|Assist Police                               |\n",
      "|Gas Leak (Natural and LP Gases)             |\n",
      "|Water Rescue                                |\n",
      "|Electrical Hazard                           |\n",
      "|High Angle Rescue                           |\n",
      "+--------------------------------------------+\n",
      "only showing top 25 rows\n",
      "\n"
     ]
    }
   ],
   "source": [
    "df.select('CallType').distinct().show(25, False)    # \"False\" is used to avoid truncation of the \"CallType\""
   ]
  },
  {
   "cell_type": "markdown",
   "metadata": {},
   "source": [
    "## How many incidents of each call type were there?"
   ]
  },
  {
   "cell_type": "code",
   "execution_count": 12,
   "metadata": {},
   "outputs": [
    {
     "name": "stdout",
     "output_type": "stream",
     "text": [
      "+-------------------------------+-------+\n",
      "|CallType                       |count  |\n",
      "+-------------------------------+-------+\n",
      "|Medical Incident               |3479202|\n",
      "|Structure Fire                 |667918 |\n",
      "|Alarms                         |576825 |\n",
      "|Traffic Collision              |217931 |\n",
      "|Other                          |84226  |\n",
      "|Citizen Assist / Service Call  |79592  |\n",
      "|Outside Fire                   |64943  |\n",
      "|Water Rescue                   |26390  |\n",
      "|Vehicle Fire                   |24811  |\n",
      "|Gas Leak (Natural and LP Gases)|21678  |\n",
      "|Electrical Hazard              |15954  |\n",
      "|Elevator / Escalator Rescue    |14352  |\n",
      "|Odor (Strange / Unknown)       |12867  |\n",
      "|Smoke Investigation (Outside)  |11986  |\n",
      "|Fuel Spill                     |6067   |\n",
      "|HazMat                         |4142   |\n",
      "|Industrial Accidents           |2995   |\n",
      "|Explosion                      |2769   |\n",
      "|Aircraft Emergency             |1511   |\n",
      "|Train / Rail Incident          |1418   |\n",
      "+-------------------------------+-------+\n",
      "only showing top 20 rows\n",
      "\n"
     ]
    }
   ],
   "source": [
    "df.select('CallType').groupBy('CallType').count().orderBy(\"count\", ascending = False).show(20, False)\n",
    "\n",
    "# Here count() is working as a transformation, so show() is used as the action."
   ]
  },
  {
   "cell_type": "code",
   "execution_count": 13,
   "metadata": {},
   "outputs": [],
   "source": [
    "# Alternative way\n",
    "ab = df.select('CallType').groupBy('CallType').count()"
   ]
  },
  {
   "cell_type": "code",
   "execution_count": 14,
   "metadata": {
    "scrolled": false
   },
   "outputs": [
    {
     "name": "stdout",
     "output_type": "stream",
     "text": [
      "+--------------------+-------+\n",
      "|            CallType|  count|\n",
      "+--------------------+-------+\n",
      "|    Medical Incident|3479202|\n",
      "|      Structure Fire| 667918|\n",
      "|              Alarms| 576825|\n",
      "|   Traffic Collision| 217931|\n",
      "|               Other|  84226|\n",
      "|Citizen Assist / ...|  79592|\n",
      "|        Outside Fire|  64943|\n",
      "|        Water Rescue|  26390|\n",
      "|        Vehicle Fire|  24811|\n",
      "|Gas Leak (Natural...|  21678|\n",
      "|   Electrical Hazard|  15954|\n",
      "|Elevator / Escala...|  14352|\n",
      "|Odor (Strange / U...|  12867|\n",
      "|Smoke Investigati...|  11986|\n",
      "|          Fuel Spill|   6067|\n",
      "|              HazMat|   4142|\n",
      "|Industrial Accidents|   2995|\n",
      "|           Explosion|   2769|\n",
      "|  Aircraft Emergency|   1511|\n",
      "|Train / Rail Inci...|   1418|\n",
      "+--------------------+-------+\n",
      "only showing top 20 rows\n",
      "\n"
     ]
    }
   ],
   "source": [
    "ab.orderBy(\"count\", ascending = False).show()"
   ]
  },
  {
   "cell_type": "markdown",
   "metadata": {},
   "source": [
    "## How many distinct years of fire service calls data are in the data file?"
   ]
  },
  {
   "cell_type": "code",
   "execution_count": 15,
   "metadata": {},
   "outputs": [],
   "source": [
    "from pyspark.sql.functions import unix_timestamp"
   ]
  },
  {
   "cell_type": "code",
   "execution_count": 16,
   "metadata": {},
   "outputs": [],
   "source": [
    "pattern1 = \"MM/dd/yyyy\"\n",
    "\n",
    "pattern2 = \"MM/dd/yyyy hh:mm:ss aa\""
   ]
  },
  {
   "cell_type": "code",
   "execution_count": 17,
   "metadata": {},
   "outputs": [],
   "source": [
    "# Making a new dataframe with timestamps - dfTs\n",
    "# Creating a new Time Stamp column with the date/time fields, changing them to the proper pattern, typecasting\n",
    "# them to Unix_timestamp and finally dropping the original column in the DF.\n",
    "\n",
    "\n",
    "\n",
    "dfTs = df\\\n",
    "    .withColumn(\"CallDateTS\", unix_timestamp(df['CallDate'], pattern1).cast('timestamp')).drop('CallDate')\\\n",
    "    .withColumn(\"WatchDateTS\", unix_timestamp(df['WatchDate'], pattern1).cast('timestamp')).drop('WatchDate')\\\n",
    "    .withColumn(\"ReceivedDtTmTS\", unix_timestamp(df['ReceivedDtTm'], pattern2).cast('timestamp')).drop('ReceivedDtTm')\\\n",
    "    .withColumn(\"EntryDtTmTS\", unix_timestamp(df['EntryDtTm'], pattern2).cast('timestamp')).drop('EntryDtTm')\\\n",
    "    .withColumn(\"DispatchDtTmTS\", unix_timestamp(df['DispatchDtTm'], pattern2).cast('timestamp')).drop('DispatchDtTm')\\\n",
    "    .withColumn(\"ResponseDtTmTS\", unix_timestamp(df['ResponseDtTm'], pattern2).cast('timestamp')).drop('ResponseDtTm')\\\n",
    "    .withColumn(\"OnSceneDtTmTS\", unix_timestamp(df['OnSceneDtTm'], pattern2).cast('timestamp')).drop('OnSceneDtTm')\\\n",
    "    .withColumn(\"TransportDtTmTS\", unix_timestamp(df['TransportDtTm'], pattern2).cast('timestamp')).drop('TransportDtTm')\\\n",
    "    .withColumn(\"HospitalDtTmTS\", unix_timestamp(df['HospitalDtTm'], pattern2).cast('timestamp')).drop('HospitalDtTm')\\\n",
    "    .withColumn(\"AvailableDtTmTS\", unix_timestamp(df['AvailableDtTm'], pattern2).cast('timestamp')).drop('AvailableDtTm')\n",
    "    "
   ]
  },
  {
   "cell_type": "code",
   "execution_count": 18,
   "metadata": {},
   "outputs": [
    {
     "name": "stdout",
     "output_type": "stream",
     "text": [
      "root\n",
      " |-- CallNumber: integer (nullable = true)\n",
      " |-- UnitID: string (nullable = true)\n",
      " |-- IncidentNumber: integer (nullable = true)\n",
      " |-- CallType: string (nullable = true)\n",
      " |-- CallFinalDisposition: string (nullable = true)\n",
      " |-- Address: string (nullable = true)\n",
      " |-- City: string (nullable = true)\n",
      " |-- ZipcodeofIncident: integer (nullable = true)\n",
      " |-- Battalion: string (nullable = true)\n",
      " |-- StationArea: string (nullable = true)\n",
      " |-- Box: string (nullable = true)\n",
      " |-- OriginalPriority: string (nullable = true)\n",
      " |-- Priority: string (nullable = true)\n",
      " |-- FinalPriority: integer (nullable = true)\n",
      " |-- ALSUnit: boolean (nullable = true)\n",
      " |-- CallTypeGroup: string (nullable = true)\n",
      " |-- NumberofAlarms: integer (nullable = true)\n",
      " |-- UnitType: string (nullable = true)\n",
      " |-- Unitsequenceincalldispatch: integer (nullable = true)\n",
      " |-- FirePreventionDistrict: string (nullable = true)\n",
      " |-- SupervisorDistrict: string (nullable = true)\n",
      " |-- Neighborhooods_AnalysisBoundaries: string (nullable = true)\n",
      " |-- Location: string (nullable = true)\n",
      " |-- RowID: string (nullable = true)\n",
      " |-- SupervisorDistricts: string (nullable = true)\n",
      " |-- FirePreventionDistricts: string (nullable = true)\n",
      " |-- CurrentPoliceDistricts: string (nullable = true)\n",
      " |-- Neighborhoods_AnalysisBoundaries: string (nullable = true)\n",
      " |-- ZipCodes: integer (nullable = true)\n",
      " |-- Neighborhoods(old): string (nullable = true)\n",
      " |-- PoliceDistricts: string (nullable = true)\n",
      " |-- CivicCenterHarmReductionProjectBoundary: string (nullable = true)\n",
      " |-- HSOCZones: string (nullable = true)\n",
      " |-- CentralMarket/TenderloinBoundaryPolygon: string (nullable = true)\n",
      " |-- CallDateTS: timestamp (nullable = true)\n",
      " |-- WatchDateTS: timestamp (nullable = true)\n",
      " |-- ReceivedDtTmTS: timestamp (nullable = true)\n",
      " |-- EntryDtTmTS: timestamp (nullable = true)\n",
      " |-- DispatchDtTmTS: timestamp (nullable = true)\n",
      " |-- ResponseDtTmTS: timestamp (nullable = true)\n",
      " |-- OnSceneDtTmTS: timestamp (nullable = true)\n",
      " |-- TransportDtTmTS: timestamp (nullable = true)\n",
      " |-- HospitalDtTmTS: timestamp (nullable = true)\n",
      " |-- AvailableDtTmTS: timestamp (nullable = true)\n",
      "\n"
     ]
    }
   ],
   "source": [
    "dfTs.printSchema()\n",
    "\n",
    "# The new timestamp columns appear below in the list of columns"
   ]
  },
  {
   "cell_type": "code",
   "execution_count": 19,
   "metadata": {},
   "outputs": [
    {
     "name": "stdout",
     "output_type": "stream",
     "text": [
      "+----------+------+--------------+----------------+--------------------+--------------------+-------------+-----------------+---------+-----------+----+----------------+--------+-------------+-------+--------------------+--------------+--------+--------------------------+----------------------+------------------+---------------------------------+--------------------+-------------+-------------------+-----------------------+----------------------+--------------------------------+--------+------------------+---------------+---------------------------------------+---------+---------------------------------------+-------------------+-------------------+-------------------+-------------------+-------------------+-------------------+-------------------+-------------------+-------------------+-------------------+\n",
      "|CallNumber|UnitID|IncidentNumber|        CallType|CallFinalDisposition|             Address|         City|ZipcodeofIncident|Battalion|StationArea| Box|OriginalPriority|Priority|FinalPriority|ALSUnit|       CallTypeGroup|NumberofAlarms|UnitType|Unitsequenceincalldispatch|FirePreventionDistrict|SupervisorDistrict|Neighborhooods_AnalysisBoundaries|            Location|        RowID|SupervisorDistricts|FirePreventionDistricts|CurrentPoliceDistricts|Neighborhoods_AnalysisBoundaries|ZipCodes|Neighborhoods(old)|PoliceDistricts|CivicCenterHarmReductionProjectBoundary|HSOCZones|CentralMarket/TenderloinBoundaryPolygon|         CallDateTS|        WatchDateTS|     ReceivedDtTmTS|        EntryDtTmTS|     DispatchDtTmTS|     ResponseDtTmTS|      OnSceneDtTmTS|    TransportDtTmTS|     HospitalDtTmTS|    AvailableDtTmTS|\n",
      "+----------+------+--------------+----------------+--------------------+--------------------+-------------+-----------------+---------+-----------+----+----------------+--------+-------------+-------+--------------------+--------------+--------+--------------------------+----------------------+------------------+---------------------------------+--------------------+-------------+-------------------+-----------------------+----------------------+--------------------------------+--------+------------------+---------------+---------------------------------------+---------+---------------------------------------+-------------------+-------------------+-------------------+-------------------+-------------------+-------------------+-------------------+-------------------+-------------------+-------------------+\n",
      "| 201560006|    86|      20064818|Medical Incident|    Code 2 Transport|1400 Block of HAL...|Treasure Isla|            94130|      B03|         48|2931|               3|       2|            2|   true|Non Life-threatening|             1|   MEDIC|                         3|                  None|                 6|                  Treasure Island|(37.8247216432687...| 201560006-86|                  9|                   null|                     2|                              37|      62|                37|              2|                                   null|     null|                                   null|2020-06-04 00:00:00|2020-06-03 00:00:00|2020-06-04 00:00:17|2020-06-04 00:02:00|2020-06-04 00:02:09|2020-06-04 00:02:13|2020-06-04 00:15:50|2020-06-04 00:37:17|2020-06-04 00:48:15|2020-06-04 01:22:59|\n",
      "| 201560006|   E48|      20064818|Medical Incident|    Code 2 Transport|1400 Block of HAL...|Treasure Isla|            94130|      B03|         48|2931|               3|       2|            2|   true|Non Life-threatening|             1|  ENGINE|                         1|                  None|                 6|                  Treasure Island|(37.8247216432687...|201560006-E48|                  9|                   null|                     2|                              37|      62|                37|              2|                                   null|     null|                                   null|2020-06-04 00:00:00|2020-06-03 00:00:00|2020-06-04 00:00:17|2020-06-04 00:02:00|2020-06-04 00:02:09|2020-06-04 00:04:08|2020-06-04 00:07:11|               null|               null|2020-06-04 00:21:49|\n",
      "+----------+------+--------------+----------------+--------------------+--------------------+-------------+-----------------+---------+-----------+----+----------------+--------+-------------+-------+--------------------+--------------+--------+--------------------------+----------------------+------------------+---------------------------------+--------------------+-------------+-------------------+-----------------------+----------------------+--------------------------------+--------+------------------+---------------+---------------------------------------+---------+---------------------------------------+-------------------+-------------------+-------------------+-------------------+-------------------+-------------------+-------------------+-------------------+-------------------+-------------------+\n",
      "only showing top 2 rows\n",
      "\n"
     ]
    }
   ],
   "source": [
    "dfTs.show(2)"
   ]
  },
  {
   "cell_type": "code",
   "execution_count": 20,
   "metadata": {},
   "outputs": [
    {
     "name": "stdout",
     "output_type": "stream",
     "text": [
      "+----------------+\n",
      "|year(CallDateTS)|\n",
      "+----------------+\n",
      "|            2000|\n",
      "|            2001|\n",
      "|            2002|\n",
      "|            2003|\n",
      "|            2004|\n",
      "|            2005|\n",
      "|            2006|\n",
      "|            2007|\n",
      "|            2008|\n",
      "|            2009|\n",
      "|            2010|\n",
      "|            2011|\n",
      "|            2012|\n",
      "|            2013|\n",
      "|            2014|\n",
      "|            2015|\n",
      "|            2016|\n",
      "|            2017|\n",
      "|            2018|\n",
      "|            2019|\n",
      "+----------------+\n",
      "only showing top 20 rows\n",
      "\n"
     ]
    }
   ],
   "source": [
    "from pyspark.sql.functions import year\n",
    "\n",
    "dfTs.select(year('CallDateTS')).distinct().orderBy('year(CallDateTS)').show()"
   ]
  },
  {
   "cell_type": "markdown",
   "metadata": {},
   "source": [
    "## Partitioning"
   ]
  },
  {
   "cell_type": "code",
   "execution_count": 21,
   "metadata": {},
   "outputs": [
    {
     "data": {
      "text/plain": [
       "16"
      ]
     },
     "execution_count": 21,
     "metadata": {},
     "output_type": "execute_result"
    }
   ],
   "source": [
    "dfTs.rdd.getNumPartitions()"
   ]
  },
  {
   "cell_type": "code",
   "execution_count": 22,
   "metadata": {},
   "outputs": [],
   "source": [
    "dfTs.repartition(5).createOrReplaceTempView('dfTs_View')"
   ]
  },
  {
   "cell_type": "code",
   "execution_count": 23,
   "metadata": {},
   "outputs": [
    {
     "data": {
      "text/plain": [
       "5324768"
      ]
     },
     "execution_count": 23,
     "metadata": {},
     "output_type": "execute_result"
    }
   ],
   "source": [
    "spark.table('dfTs_View').count()"
   ]
  },
  {
   "cell_type": "code",
   "execution_count": 24,
   "metadata": {},
   "outputs": [
    {
     "name": "stdout",
     "output_type": "stream",
     "text": [
      "+----------+------+--------------+--------------------+--------------------+--------------------+-------------+-----------------+---------+-----------+----+----------------+--------+-------------+-------+--------------------+--------------+--------+--------------------------+----------------------+------------------+---------------------------------+--------------------+-------------+-------------------+-----------------------+----------------------+--------------------------------+--------+------------------+---------------+---------------------------------------+---------+---------------------------------------+-------------------+-------------------+-------------------+-------------------+-------------------+-------------------+-------------------+---------------+--------------+-------------------+\n",
      "|CallNumber|UnitID|IncidentNumber|            CallType|CallFinalDisposition|             Address|         City|ZipcodeofIncident|Battalion|StationArea| Box|OriginalPriority|Priority|FinalPriority|ALSUnit|       CallTypeGroup|NumberofAlarms|UnitType|Unitsequenceincalldispatch|FirePreventionDistrict|SupervisorDistrict|Neighborhooods_AnalysisBoundaries|            Location|        RowID|SupervisorDistricts|FirePreventionDistricts|CurrentPoliceDistricts|Neighborhoods_AnalysisBoundaries|ZipCodes|Neighborhoods(old)|PoliceDistricts|CivicCenterHarmReductionProjectBoundary|HSOCZones|CentralMarket/TenderloinBoundaryPolygon|         CallDateTS|        WatchDateTS|     ReceivedDtTmTS|        EntryDtTmTS|     DispatchDtTmTS|     ResponseDtTmTS|      OnSceneDtTmTS|TransportDtTmTS|HospitalDtTmTS|    AvailableDtTmTS|\n",
      "+----------+------+--------------+--------------------+--------------------+--------------------+-------------+-----------------+---------+-----------+----+----------------+--------+-------------+-------+--------------------+--------------+--------+--------------------------+----------------------+------------------+---------------------------------+--------------------+-------------+-------------------+-----------------------+----------------------+--------------------------------+--------+------------------+---------------+---------------------------------------+---------+---------------------------------------+-------------------+-------------------+-------------------+-------------------+-------------------+-------------------+-------------------+---------------+--------------+-------------------+\n",
      "|  43190232|   E38|       4088212|Citizen Assist / ...|               Other|2200 Block of BUS...|           SF|            94115|      B04|         38|3621|               2|       2|            2|   true|                null|             1|  ENGINE|                         1|                     4|                 5|                  Pacific Heights|(37.786969836794,...|043190232-E38|                 11|                     13|                     6|                              30|   29490|                27|              9|                                   null|     null|                                   null|2004-11-14 00:00:00|2004-11-14 00:00:00|2004-11-14 18:32:16|2004-11-14 18:33:33|2004-11-14 18:33:46|2004-11-14 18:34:58|2004-11-14 18:36:45|           null|          null|2004-11-14 18:55:41|\n",
      "| 192762897|    67|      19118622|   Traffic Collision|    Unable to Locate|HYDE ST/MCALLISTE...|San Francisco|            94102|      B02|         36|1552|               B|       3|            3|   true|Potentially Life-...|             1|   MEDIC|                         2|                     2|                 6|                       Tenderloin|(37.7807191768764...| 192762897-67|                  9|                      7|                    10|                              36|   28852|                36|             10|                                      1|        1|                                      1|2019-10-03 00:00:00|2019-10-03 00:00:00|2019-10-03 16:29:55|2019-10-03 16:29:55|2019-10-03 16:30:07|2019-10-03 16:30:12|               null|           null|          null|2019-10-03 16:35:53|\n",
      "+----------+------+--------------+--------------------+--------------------+--------------------+-------------+-----------------+---------+-----------+----+----------------+--------+-------------+-------+--------------------+--------------+--------+--------------------------+----------------------+------------------+---------------------------------+--------------------+-------------+-------------------+-----------------------+----------------------+--------------------------------+--------+------------------+---------------+---------------------------------------+---------+---------------------------------------+-------------------+-------------------+-------------------+-------------------+-------------------+-------------------+-------------------+---------------+--------------+-------------------+\n",
      "\n"
     ]
    }
   ],
   "source": [
    "spark.sql(\"Select * from dfTs_View limit 2\").show()"
   ]
  },
  {
   "cell_type": "code",
   "execution_count": 25,
   "metadata": {},
   "outputs": [
    {
     "name": "stdout",
     "output_type": "stream",
     "text": [
      "+----------+----------------+--------------------+----------------------------+-------------------+\n",
      "|CallNumber|CallType        |CallFinalDisposition|CallTypeGroup               |CallDateTs         |\n",
      "+----------+----------------+--------------------+----------------------------+-------------------+\n",
      "|193343144 |Structure Fire  |Fire                |Alarm                       |2019-11-30 00:00:00|\n",
      "|193343144 |Structure Fire  |Fire                |Alarm                       |2019-11-30 00:00:00|\n",
      "|200990046 |Alarms          |Fire                |Alarm                       |2020-04-08 00:00:00|\n",
      "|201850029 |Alarms          |Fire                |Alarm                       |2020-07-03 00:00:00|\n",
      "|200852473 |Medical Incident|Code 2 Transport    |Potentially Life-Threatening|2020-03-25 00:00:00|\n",
      "|42970095  |Alarms          |Other               |null                        |2004-10-23 00:00:00|\n",
      "|201611550 |Medical Incident|No Merit            |Non Life-threatening        |2020-06-09 00:00:00|\n",
      "|193643262 |Medical Incident|Code 2 Transport    |Potentially Life-Threatening|2019-12-30 00:00:00|\n",
      "|192793544 |Medical Incident|Code 2 Transport    |Potentially Life-Threatening|2019-10-06 00:00:00|\n",
      "|201002811 |Medical Incident|Other               |null                        |2020-04-09 00:00:00|\n",
      "|200810084 |Structure Fire  |Fire                |Alarm                       |2020-03-21 00:00:00|\n",
      "|200810084 |Structure Fire  |Fire                |Alarm                       |2020-03-21 00:00:00|\n",
      "|43100028  |Medical Incident|Other               |null                        |2004-11-05 00:00:00|\n",
      "|43040176  |Alarms          |Other               |null                        |2004-10-30 00:00:00|\n",
      "|193012170 |Structure Fire  |Fire                |Alarm                       |2019-10-28 00:00:00|\n",
      "|43350125  |Medical Incident|Other               |null                        |2004-11-30 00:00:00|\n",
      "|41900175  |Medical Incident|Other               |null                        |2004-07-08 00:00:00|\n",
      "|192930502 |Alarms          |Fire                |Alarm                       |2019-10-20 00:00:00|\n",
      "|201673193 |Medical Incident|Code 2 Transport    |Potentially Life-Threatening|2020-06-15 00:00:00|\n",
      "|201470992 |Structure Fire  |Fire                |Alarm                       |2020-05-26 00:00:00|\n",
      "+----------+----------------+--------------------+----------------------------+-------------------+\n",
      "only showing top 20 rows\n",
      "\n"
     ]
    }
   ],
   "source": [
    "spark.sql('Select CallNumber, CallType, CallFinalDisposition, CallTypeGroup, CallDateTs from dfTs_View')\\\n",
    "     .show(20, False)"
   ]
  },
  {
   "cell_type": "code",
   "execution_count": 26,
   "metadata": {},
   "outputs": [
    {
     "name": "stdout",
     "output_type": "stream",
     "text": [
      "+-------------------------------+-------+\n",
      "|CallType                       |count  |\n",
      "+-------------------------------+-------+\n",
      "|Medical Incident               |3479202|\n",
      "|Structure Fire                 |667918 |\n",
      "|Alarms                         |576825 |\n",
      "|Traffic Collision              |217931 |\n",
      "|Other                          |84226  |\n",
      "|Citizen Assist / Service Call  |79592  |\n",
      "|Outside Fire                   |64943  |\n",
      "|Water Rescue                   |26390  |\n",
      "|Vehicle Fire                   |24811  |\n",
      "|Gas Leak (Natural and LP Gases)|21678  |\n",
      "|Electrical Hazard              |15954  |\n",
      "|Elevator / Escalator Rescue    |14352  |\n",
      "|Odor (Strange / Unknown)       |12867  |\n",
      "|Smoke Investigation (Outside)  |11986  |\n",
      "|Fuel Spill                     |6067   |\n",
      "|HazMat                         |4142   |\n",
      "|Industrial Accidents           |2995   |\n",
      "|Explosion                      |2769   |\n",
      "|Aircraft Emergency             |1511   |\n",
      "|Train / Rail Incident          |1418   |\n",
      "+-------------------------------+-------+\n",
      "only showing top 20 rows\n",
      "\n"
     ]
    }
   ],
   "source": [
    "from pyspark.sql.functions import desc, count\n",
    "\n",
    "dfTs.select('CallNumber', 'CallType', 'CallFinalDisposition', 'CallTypeGroup', 'CallDateTs')\\\n",
    "     .groupBy('CallType') \\\n",
    "     .count() \\\n",
    "     .orderBy(count('CallType').desc()) \\\n",
    "     .show(20, False)"
   ]
  },
  {
   "cell_type": "code",
   "execution_count": 27,
   "metadata": {},
   "outputs": [
    {
     "name": "stdout",
     "output_type": "stream",
     "text": [
      "+--------------------------+-------+\n",
      "|CallFinalDisposition      |count  |\n",
      "+--------------------------+-------+\n",
      "|Multi-casualty Incident   |219    |\n",
      "|CHP                       |857    |\n",
      "|Duplicate                 |1280   |\n",
      "|Gone on Arrival           |15429  |\n",
      "|SFPD                      |25894  |\n",
      "|Medical Examiner          |34780  |\n",
      "|Unable to Locate          |46904  |\n",
      "|Against Medical Advice    |48499  |\n",
      "|Cancelled                 |48527  |\n",
      "|Code 3 Transport          |121386 |\n",
      "|No Merit                  |157409 |\n",
      "|Patient Declined Transport|175623 |\n",
      "|Fire                      |642219 |\n",
      "|Code 2 Transport          |1477685|\n",
      "|Other                     |2528057|\n",
      "+--------------------------+-------+\n",
      "\n"
     ]
    }
   ],
   "source": [
    "from pyspark.sql.functions import asc\n",
    "\n",
    "dfTs.select('CallNumber', 'CallType', 'CallFinalDisposition', 'CallTypeGroup', 'CallDateTs')\\\n",
    "     .groupBy('CallFinalDisposition') \\\n",
    "     .count() \\\n",
    "     .orderBy(asc('count')) \\\n",
    "     .show(20, False)"
   ]
  },
  {
   "cell_type": "code",
   "execution_count": 28,
   "metadata": {},
   "outputs": [
    {
     "name": "stdout",
     "output_type": "stream",
     "text": [
      "+----------------------------+-------+\n",
      "|CallTypeGroup               |count  |\n",
      "+----------------------------+-------+\n",
      "|null                        |2808692|\n",
      "|Potentially Life-Threatening|1217385|\n",
      "|Non Life-threatening        |598651 |\n",
      "|Alarm                       |598512 |\n",
      "|Fire                        |101528 |\n",
      "+----------------------------+-------+\n",
      "\n"
     ]
    }
   ],
   "source": [
    "dfTs.select('CallNumber', 'CallType', 'CallFinalDisposition', 'CallTypeGroup', 'CallDateTs')\\\n",
    "     .groupBy('CallTypeGroup') \\\n",
    "     .count() \\\n",
    "     .orderBy(desc('count')) \\\n",
    "     .show(20, False)"
   ]
  },
  {
   "cell_type": "code",
   "execution_count": 29,
   "metadata": {},
   "outputs": [
    {
     "name": "stdout",
     "output_type": "stream",
     "text": [
      "+----------+---------------------------+--------------------+-------------+-------------------+\n",
      "|CallNumber|CallType                   |CallFinalDisposition|CallTypeGroup|CallDateTs         |\n",
      "+----------+---------------------------+--------------------+-------------+-------------------+\n",
      "|193343144 |Structure Fire             |Fire                |Alarm        |2019-11-30 00:00:00|\n",
      "|193343144 |Structure Fire             |Fire                |Alarm        |2019-11-30 00:00:00|\n",
      "|200990046 |Alarms                     |Fire                |Alarm        |2020-04-08 00:00:00|\n",
      "|201850029 |Alarms                     |Fire                |Alarm        |2020-07-03 00:00:00|\n",
      "|200810084 |Structure Fire             |Fire                |Alarm        |2020-03-21 00:00:00|\n",
      "|200810084 |Structure Fire             |Fire                |Alarm        |2020-03-21 00:00:00|\n",
      "|192930502 |Alarms                     |Fire                |Alarm        |2019-10-20 00:00:00|\n",
      "|200263149 |Alarms                     |Fire                |Alarm        |2020-01-26 00:00:00|\n",
      "|201690309 |Other                      |Fire                |Alarm        |2020-06-17 00:00:00|\n",
      "|200493084 |Elevator / Escalator Rescue|Fire                |Alarm        |2020-02-18 00:00:00|\n",
      "|200702316 |Alarms                     |Fire                |Alarm        |2020-03-10 00:00:00|\n",
      "|200650171 |Alarms                     |Fire                |Alarm        |2020-03-05 00:00:00|\n",
      "|193600343 |Structure Fire             |Fire                |Alarm        |2019-12-26 00:00:00|\n",
      "|201731425 |Structure Fire             |Fire                |Alarm        |2020-06-21 00:00:00|\n",
      "|201731425 |Structure Fire             |Fire                |Alarm        |2020-06-21 00:00:00|\n",
      "|201070375 |Structure Fire             |Fire                |Alarm        |2020-04-16 00:00:00|\n",
      "|201070375 |Structure Fire             |Fire                |Alarm        |2020-04-16 00:00:00|\n",
      "|200220333 |Alarms                     |Fire                |Alarm        |2020-01-22 00:00:00|\n",
      "|192811771 |Alarms                     |Fire                |Alarm        |2019-10-08 00:00:00|\n",
      "|200862625 |Alarms                     |Fire                |Alarm        |2020-03-26 00:00:00|\n",
      "+----------+---------------------------+--------------------+-------------+-------------------+\n",
      "only showing top 20 rows\n",
      "\n"
     ]
    }
   ],
   "source": [
    "spark.sql('Select CallNumber, CallType, CallFinalDisposition, CallTypeGroup, CallDateTs \\\n",
    "from dfTs_View where CallFinalDisposition = \"Fire\"')\\\n",
    "     .show(20, False)"
   ]
  },
  {
   "cell_type": "code",
   "execution_count": 30,
   "metadata": {},
   "outputs": [
    {
     "name": "stdout",
     "output_type": "stream",
     "text": [
      "+--------+\n",
      "|count(1)|\n",
      "+--------+\n",
      "| 5324768|\n",
      "+--------+\n",
      "\n"
     ]
    }
   ],
   "source": [
    "spark.sql(\"SELECT count(*) from dfTs_View\").show()"
   ]
  },
  {
   "cell_type": "markdown",
   "metadata": {},
   "source": [
    "## Which neighbourhood in San Francisco generated the most calls in 2016?"
   ]
  },
  {
   "cell_type": "code",
   "execution_count": 31,
   "metadata": {},
   "outputs": [
    {
     "name": "stdout",
     "output_type": "stream",
     "text": [
      "+---------------------------------+-------------------+\n",
      "|Neighborhooods_AnalysisBoundaries|No_Of_Neighborhoods|\n",
      "+---------------------------------+-------------------+\n",
      "|                       Tenderloin|              41815|\n",
      "|                  South of Market|              31293|\n",
      "|                          Mission|              26897|\n",
      "|             Financial Distric...|              22538|\n",
      "|             Bayview Hunters P...|              15383|\n",
      "|                  Sunset/Parkside|              10789|\n",
      "|                 Western Addition|              10691|\n",
      "|                         Nob Hill|               9987|\n",
      "|                   Outer Richmond|               7994|\n",
      "|              Castro/Upper Market|               7647|\n",
      "|                     Hayes Valley|               7172|\n",
      "|                      North Beach|               7094|\n",
      "|                        Chinatown|               6256|\n",
      "|               West of Twin Peaks|               6156|\n",
      "|                  Pacific Heights|               6089|\n",
      "|                        Excelsior|               5792|\n",
      "|                           Marina|               5732|\n",
      "|                   Bernal Heights|               5288|\n",
      "|                     Potrero Hill|               5195|\n",
      "|                     Russian Hill|               4951|\n",
      "+---------------------------------+-------------------+\n",
      "only showing top 20 rows\n",
      "\n"
     ]
    }
   ],
   "source": [
    "spark.sql(\"Select Neighborhooods_AnalysisBoundaries, count(Neighborhooods_AnalysisBoundaries) AS No_Of_Neighborhoods from dfTs_View \\\n",
    "where year(CallDateTS) == 2016 \\\n",
    "group by Neighborhooods_AnalysisBoundaries \\\n",
    "order by No_Of_Neighborhoods desc\")\\\n",
    "    .show()"
   ]
  },
  {
   "cell_type": "markdown",
   "metadata": {},
   "source": [
    "## Derive the number of current partitions and set it to 5."
   ]
  },
  {
   "cell_type": "code",
   "execution_count": 32,
   "metadata": {},
   "outputs": [
    {
     "data": {
      "text/plain": [
       "'200'"
      ]
     },
     "execution_count": 32,
     "metadata": {},
     "output_type": "execute_result"
    }
   ],
   "source": [
    "spark.conf.get('spark.sql.shuffle.partitions')"
   ]
  },
  {
   "cell_type": "code",
   "execution_count": 33,
   "metadata": {},
   "outputs": [],
   "source": [
    "spark.conf.set('spark.sql.shuffle.partitions',5)"
   ]
  },
  {
   "cell_type": "code",
   "execution_count": 34,
   "metadata": {},
   "outputs": [
    {
     "data": {
      "text/plain": [
       "'5'"
      ]
     },
     "execution_count": 34,
     "metadata": {},
     "output_type": "execute_result"
    }
   ],
   "source": [
    "spark.conf.get('spark.sql.shuffle.partitions')"
   ]
  },
  {
   "cell_type": "code",
   "execution_count": 35,
   "metadata": {},
   "outputs": [
    {
     "name": "stdout",
     "output_type": "stream",
     "text": [
      "+---------------------------------------+---------+-------+\n",
      "|col_name                               |data_type|comment|\n",
      "+---------------------------------------+---------+-------+\n",
      "|CallNumber                             |int      |null   |\n",
      "|UnitID                                 |string   |null   |\n",
      "|IncidentNumber                         |int      |null   |\n",
      "|CallType                               |string   |null   |\n",
      "|CallFinalDisposition                   |string   |null   |\n",
      "|Address                                |string   |null   |\n",
      "|City                                   |string   |null   |\n",
      "|ZipcodeofIncident                      |int      |null   |\n",
      "|Battalion                              |string   |null   |\n",
      "|StationArea                            |string   |null   |\n",
      "|Box                                    |string   |null   |\n",
      "|OriginalPriority                       |string   |null   |\n",
      "|Priority                               |string   |null   |\n",
      "|FinalPriority                          |int      |null   |\n",
      "|ALSUnit                                |boolean  |null   |\n",
      "|CallTypeGroup                          |string   |null   |\n",
      "|NumberofAlarms                         |int      |null   |\n",
      "|UnitType                               |string   |null   |\n",
      "|Unitsequenceincalldispatch             |int      |null   |\n",
      "|FirePreventionDistrict                 |string   |null   |\n",
      "|SupervisorDistrict                     |string   |null   |\n",
      "|Neighborhooods_AnalysisBoundaries      |string   |null   |\n",
      "|Location                               |string   |null   |\n",
      "|RowID                                  |string   |null   |\n",
      "|SupervisorDistricts                    |string   |null   |\n",
      "|FirePreventionDistricts                |string   |null   |\n",
      "|CurrentPoliceDistricts                 |string   |null   |\n",
      "|Neighborhoods_AnalysisBoundaries       |string   |null   |\n",
      "|ZipCodes                               |int      |null   |\n",
      "|Neighborhoods(old)                     |string   |null   |\n",
      "|PoliceDistricts                        |string   |null   |\n",
      "|CivicCenterHarmReductionProjectBoundary|string   |null   |\n",
      "|HSOCZones                              |string   |null   |\n",
      "|CentralMarket/TenderloinBoundaryPolygon|string   |null   |\n",
      "|CallDateTS                             |timestamp|null   |\n",
      "|WatchDateTS                            |timestamp|null   |\n",
      "|ReceivedDtTmTS                         |timestamp|null   |\n",
      "|EntryDtTmTS                            |timestamp|null   |\n",
      "|DispatchDtTmTS                         |timestamp|null   |\n",
      "|ResponseDtTmTS                         |timestamp|null   |\n",
      "+---------------------------------------+---------+-------+\n",
      "only showing top 40 rows\n",
      "\n"
     ]
    }
   ],
   "source": [
    "spark.sql(\"desc dfTs_View\").show(40, False)"
   ]
  },
  {
   "cell_type": "markdown",
   "metadata": {},
   "source": [
    "#### DataFrame Join - The \"Fire_Incidents.csv\" has to be joined with \"Fire_Department_Calls_for_Service.csv\""
   ]
  },
  {
   "cell_type": "markdown",
   "metadata": {},
   "source": [
    "## What was the primary non medical reason most people called the Fire department from Tenderloin in 2015?"
   ]
  },
  {
   "cell_type": "code",
   "execution_count": 36,
   "metadata": {},
   "outputs": [],
   "source": [
    "FI_df = spark.read.csv(\"/home/hduser/Fire_Incidents.csv\", header = True, inferSchema = True)"
   ]
  },
  {
   "cell_type": "code",
   "execution_count": 37,
   "metadata": {},
   "outputs": [
    {
     "name": "stdout",
     "output_type": "stream",
     "text": [
      "root\n",
      " |-- Incident Number: integer (nullable = true)\n",
      " |-- Exposure Number: integer (nullable = true)\n",
      " |-- ID: integer (nullable = true)\n",
      " |-- Address: string (nullable = true)\n",
      " |-- Incident Date: timestamp (nullable = true)\n",
      " |-- Call Number: integer (nullable = true)\n",
      " |-- Alarm DtTm: timestamp (nullable = true)\n",
      " |-- Arrival DtTm: timestamp (nullable = true)\n",
      " |-- Close DtTm: timestamp (nullable = true)\n",
      " |-- City: string (nullable = true)\n",
      " |-- zipcode: string (nullable = true)\n",
      " |-- Battalion: string (nullable = true)\n",
      " |-- Station Area: string (nullable = true)\n",
      " |-- Box: string (nullable = true)\n",
      " |-- Suppression Units: integer (nullable = true)\n",
      " |-- Suppression Personnel: integer (nullable = true)\n",
      " |-- EMS Units: integer (nullable = true)\n",
      " |-- EMS Personnel: integer (nullable = true)\n",
      " |-- Other Units: integer (nullable = true)\n",
      " |-- Other Personnel: integer (nullable = true)\n",
      " |-- First Unit On Scene: string (nullable = true)\n",
      " |-- Estimated Property Loss: integer (nullable = true)\n",
      " |-- Estimated Contents Loss: double (nullable = true)\n",
      " |-- Fire Fatalities: integer (nullable = true)\n",
      " |-- Fire Injuries: integer (nullable = true)\n",
      " |-- Civilian Fatalities: integer (nullable = true)\n",
      " |-- Civilian Injuries: integer (nullable = true)\n",
      " |-- Number of Alarms: integer (nullable = true)\n",
      " |-- Primary Situation: string (nullable = true)\n",
      " |-- Mutual Aid: string (nullable = true)\n",
      " |-- Action Taken Primary: string (nullable = true)\n",
      " |-- Action Taken Secondary: string (nullable = true)\n",
      " |-- Action Taken Other: string (nullable = true)\n",
      " |-- Detector Alerted Occupants: string (nullable = true)\n",
      " |-- Property Use: string (nullable = true)\n",
      " |-- Area of Fire Origin: string (nullable = true)\n",
      " |-- Ignition Cause: string (nullable = true)\n",
      " |-- Ignition Factor Primary: string (nullable = true)\n",
      " |-- Ignition Factor Secondary: string (nullable = true)\n",
      " |-- Heat Source: string (nullable = true)\n",
      " |-- Item First Ignited: string (nullable = true)\n",
      " |-- Human Factors Associated with Ignition: string (nullable = true)\n",
      " |-- Structure Type: string (nullable = true)\n",
      " |-- Structure Status: string (nullable = true)\n",
      " |-- Floor of Fire Origin: integer (nullable = true)\n",
      " |-- Fire Spread: string (nullable = true)\n",
      " |-- No Flame Spead: string (nullable = true)\n",
      " |-- Number of floors with minimum damage: integer (nullable = true)\n",
      " |-- Number of floors with significant damage: integer (nullable = true)\n",
      " |-- Number of floors with heavy damage: integer (nullable = true)\n",
      " |-- Number of floors with extreme damage: integer (nullable = true)\n",
      " |-- Detectors Present: string (nullable = true)\n",
      " |-- Detector Type: string (nullable = true)\n",
      " |-- Detector Operation: string (nullable = true)\n",
      " |-- Detector Effectiveness: string (nullable = true)\n",
      " |-- Detector Failure Reason: string (nullable = true)\n",
      " |-- Automatic Extinguishing System Present: string (nullable = true)\n",
      " |-- Automatic Extinguishing Sytem Type: string (nullable = true)\n",
      " |-- Automatic Extinguishing Sytem Perfomance: string (nullable = true)\n",
      " |-- Automatic Extinguishing Sytem Failure Reason: string (nullable = true)\n",
      " |-- Number of Sprinkler Heads Operating: integer (nullable = true)\n",
      " |-- Supervisor District: integer (nullable = true)\n",
      " |-- neighborhood_district: string (nullable = true)\n",
      " |-- point: string (nullable = true)\n",
      "\n"
     ]
    }
   ],
   "source": [
    "FI_df.printSchema()"
   ]
  },
  {
   "cell_type": "code",
   "execution_count": 38,
   "metadata": {},
   "outputs": [
    {
     "data": {
      "text/plain": [
       "550492"
      ]
     },
     "execution_count": 38,
     "metadata": {},
     "output_type": "execute_result"
    }
   ],
   "source": [
    "FI_df.count()"
   ]
  },
  {
   "cell_type": "code",
   "execution_count": 39,
   "metadata": {},
   "outputs": [],
   "source": [
    "# Here the space in the Incident Number field is removed as it will be used to join the table.\n",
    "\n",
    "FireIncidentDf = FI_df.withColumnRenamed('Incident Number', 'IncidentNumber')"
   ]
  },
  {
   "cell_type": "code",
   "execution_count": 40,
   "metadata": {},
   "outputs": [
    {
     "name": "stdout",
     "output_type": "stream",
     "text": [
      "root\n",
      " |-- IncidentNumber: integer (nullable = true)\n",
      " |-- Exposure Number: integer (nullable = true)\n",
      " |-- ID: integer (nullable = true)\n",
      " |-- Address: string (nullable = true)\n",
      " |-- Incident Date: timestamp (nullable = true)\n",
      " |-- Call Number: integer (nullable = true)\n",
      " |-- Alarm DtTm: timestamp (nullable = true)\n",
      " |-- Arrival DtTm: timestamp (nullable = true)\n",
      " |-- Close DtTm: timestamp (nullable = true)\n",
      " |-- City: string (nullable = true)\n",
      " |-- zipcode: string (nullable = true)\n",
      " |-- Battalion: string (nullable = true)\n",
      " |-- Station Area: string (nullable = true)\n",
      " |-- Box: string (nullable = true)\n",
      " |-- Suppression Units: integer (nullable = true)\n",
      " |-- Suppression Personnel: integer (nullable = true)\n",
      " |-- EMS Units: integer (nullable = true)\n",
      " |-- EMS Personnel: integer (nullable = true)\n",
      " |-- Other Units: integer (nullable = true)\n",
      " |-- Other Personnel: integer (nullable = true)\n",
      " |-- First Unit On Scene: string (nullable = true)\n",
      " |-- Estimated Property Loss: integer (nullable = true)\n",
      " |-- Estimated Contents Loss: double (nullable = true)\n",
      " |-- Fire Fatalities: integer (nullable = true)\n",
      " |-- Fire Injuries: integer (nullable = true)\n",
      " |-- Civilian Fatalities: integer (nullable = true)\n",
      " |-- Civilian Injuries: integer (nullable = true)\n",
      " |-- Number of Alarms: integer (nullable = true)\n",
      " |-- Primary Situation: string (nullable = true)\n",
      " |-- Mutual Aid: string (nullable = true)\n",
      " |-- Action Taken Primary: string (nullable = true)\n",
      " |-- Action Taken Secondary: string (nullable = true)\n",
      " |-- Action Taken Other: string (nullable = true)\n",
      " |-- Detector Alerted Occupants: string (nullable = true)\n",
      " |-- Property Use: string (nullable = true)\n",
      " |-- Area of Fire Origin: string (nullable = true)\n",
      " |-- Ignition Cause: string (nullable = true)\n",
      " |-- Ignition Factor Primary: string (nullable = true)\n",
      " |-- Ignition Factor Secondary: string (nullable = true)\n",
      " |-- Heat Source: string (nullable = true)\n",
      " |-- Item First Ignited: string (nullable = true)\n",
      " |-- Human Factors Associated with Ignition: string (nullable = true)\n",
      " |-- Structure Type: string (nullable = true)\n",
      " |-- Structure Status: string (nullable = true)\n",
      " |-- Floor of Fire Origin: integer (nullable = true)\n",
      " |-- Fire Spread: string (nullable = true)\n",
      " |-- No Flame Spead: string (nullable = true)\n",
      " |-- Number of floors with minimum damage: integer (nullable = true)\n",
      " |-- Number of floors with significant damage: integer (nullable = true)\n",
      " |-- Number of floors with heavy damage: integer (nullable = true)\n",
      " |-- Number of floors with extreme damage: integer (nullable = true)\n",
      " |-- Detectors Present: string (nullable = true)\n",
      " |-- Detector Type: string (nullable = true)\n",
      " |-- Detector Operation: string (nullable = true)\n",
      " |-- Detector Effectiveness: string (nullable = true)\n",
      " |-- Detector Failure Reason: string (nullable = true)\n",
      " |-- Automatic Extinguishing System Present: string (nullable = true)\n",
      " |-- Automatic Extinguishing Sytem Type: string (nullable = true)\n",
      " |-- Automatic Extinguishing Sytem Perfomance: string (nullable = true)\n",
      " |-- Automatic Extinguishing Sytem Failure Reason: string (nullable = true)\n",
      " |-- Number of Sprinkler Heads Operating: integer (nullable = true)\n",
      " |-- Supervisor District: integer (nullable = true)\n",
      " |-- neighborhood_district: string (nullable = true)\n",
      " |-- point: string (nullable = true)\n",
      "\n"
     ]
    }
   ],
   "source": [
    "FireIncidentDf.printSchema()"
   ]
  },
  {
   "cell_type": "code",
   "execution_count": 41,
   "metadata": {},
   "outputs": [],
   "source": [
    "joinedDf = dfTs.join(FireIncidentDf, dfTs.IncidentNumber == FireIncidentDf.IncidentNumber)"
   ]
  },
  {
   "cell_type": "code",
   "execution_count": 42,
   "metadata": {
    "scrolled": false
   },
   "outputs": [
    {
     "name": "stdout",
     "output_type": "stream",
     "text": [
      "+----------+------+--------------+----------------+--------------------+------------------+----+-----------------+---------+-----------+----+----------------+--------+-------------+-------+-------------+--------------+--------+--------------------------+----------------------+------------------+---------------------------------+--------------------+-------------+-------------------+-----------------------+----------------------+--------------------------------+--------+------------------+---------------+---------------------------------------+---------+---------------------------------------+-------------------+-------------------+-------------------+-------------------+-------------------+--------------+-------------------+---------------+--------------+-------------------+--------------+---------------+--------+--------------------+-------------------+-----------+-------------------+-------------------+-------------------+----+-------+---------+------------+----+-----------------+---------------------+---------+-------------+-----------+---------------+-------------------+-----------------------+-----------------------+---------------+-------------+-------------------+-----------------+----------------+--------------------+----------+--------------------+----------------------+------------------+--------------------------+--------------------+-------------------+--------------+-----------------------+-------------------------+-----------+------------------+--------------------------------------+--------------+----------------+--------------------+-----------+--------------+------------------------------------+----------------------------------------+----------------------------------+------------------------------------+-----------------+-------------+------------------+----------------------+-----------------------+--------------------------------------+----------------------------------+----------------------------------------+--------------------------------------------+-----------------------------------+-------------------+---------------------+--------------------+\n",
      "|CallNumber|UnitID|IncidentNumber|        CallType|CallFinalDisposition|           Address|City|ZipcodeofIncident|Battalion|StationArea| Box|OriginalPriority|Priority|FinalPriority|ALSUnit|CallTypeGroup|NumberofAlarms|UnitType|Unitsequenceincalldispatch|FirePreventionDistrict|SupervisorDistrict|Neighborhooods_AnalysisBoundaries|            Location|        RowID|SupervisorDistricts|FirePreventionDistricts|CurrentPoliceDistricts|Neighborhoods_AnalysisBoundaries|ZipCodes|Neighborhoods(old)|PoliceDistricts|CivicCenterHarmReductionProjectBoundary|HSOCZones|CentralMarket/TenderloinBoundaryPolygon|         CallDateTS|        WatchDateTS|     ReceivedDtTmTS|        EntryDtTmTS|     DispatchDtTmTS|ResponseDtTmTS|      OnSceneDtTmTS|TransportDtTmTS|HospitalDtTmTS|    AvailableDtTmTS|IncidentNumber|Exposure Number|      ID|             Address|      Incident Date|Call Number|         Alarm DtTm|       Arrival DtTm|         Close DtTm|City|zipcode|Battalion|Station Area| Box|Suppression Units|Suppression Personnel|EMS Units|EMS Personnel|Other Units|Other Personnel|First Unit On Scene|Estimated Property Loss|Estimated Contents Loss|Fire Fatalities|Fire Injuries|Civilian Fatalities|Civilian Injuries|Number of Alarms|   Primary Situation|Mutual Aid|Action Taken Primary|Action Taken Secondary|Action Taken Other|Detector Alerted Occupants|        Property Use|Area of Fire Origin|Ignition Cause|Ignition Factor Primary|Ignition Factor Secondary|Heat Source|Item First Ignited|Human Factors Associated with Ignition|Structure Type|Structure Status|Floor of Fire Origin|Fire Spread|No Flame Spead|Number of floors with minimum damage|Number of floors with significant damage|Number of floors with heavy damage|Number of floors with extreme damage|Detectors Present|Detector Type|Detector Operation|Detector Effectiveness|Detector Failure Reason|Automatic Extinguishing System Present|Automatic Extinguishing Sytem Type|Automatic Extinguishing Sytem Perfomance|Automatic Extinguishing Sytem Failure Reason|Number of Sprinkler Heads Operating|Supervisor District|neighborhood_district|               point|\n",
      "+----------+------+--------------+----------------+--------------------+------------------+----+-----------------+---------+-----------+----+----------------+--------+-------------+-------+-------------+--------------+--------+--------------------------+----------------------+------------------+---------------------------------+--------------------+-------------+-------------------+-----------------------+----------------------+--------------------------------+--------+------------------+---------------+---------------------------------------+---------+---------------------------------------+-------------------+-------------------+-------------------+-------------------+-------------------+--------------+-------------------+---------------+--------------+-------------------+--------------+---------------+--------+--------------------+-------------------+-----------+-------------------+-------------------+-------------------+----+-------+---------+------------+----+-----------------+---------------------+---------+-------------+-----------+---------------+-------------------+-----------------------+-----------------------+---------------+-------------+-------------------+-----------------+----------------+--------------------+----------+--------------------+----------------------+------------------+--------------------------+--------------------+-------------------+--------------+-----------------------+-------------------------+-----------+------------------+--------------------------------------+--------------+----------------+--------------------+-----------+--------------+------------------------------------+----------------------------------------+----------------------------------+------------------------------------+-----------------+-------------+------------------+----------------------+-----------------------+--------------------------------------+----------------------------------+----------------------------------------+--------------------------------------------+-----------------------------------+-------------------+---------------------+--------------------+\n",
      "|  30010005|    91|       3000006|Medical Incident|               Other|MARKET ST/SPEAR ST|  SF|            94105|      B01|         13|1113|               2|       2|            2|   true|         null|             1|   MEDIC|                         1|                     3|                 6|             Financial Distric...|(37.793754557678,...| 030010005-91|                  9|                     12|                     2|                               8|   28855|                 6|              2|                                   null|     null|                                   null|2003-01-01 00:00:00|2002-12-31 00:00:00|2003-01-01 00:06:18|2003-01-01 00:06:41|2003-01-01 00:07:32|          null|2003-01-01 00:07:46|           null|          null|2003-01-01 00:23:00|       3000006|              0|30000060|Market St. / Spea...|2003-01-01 00:00:00|   30010005|2003-01-01 00:07:32|2003-01-01 00:07:46|2003-01-01 00:23:00|  SF|  94104|      B01|          13|1113|                0|                    0|        1|            2|          0|              0|                 91|                      0|                    0.0|              0|            0|                  0|                0|               1|321 - EMS excludi...|      None|32 - Provide basi...|                     -|                 -|                         -|419 - 1 or 2 fami...|                  -|             -|                      -|                        -|          -|                 -|                                     -|             -|               -|                null|          -|          null|                                null|                                    null|                              null|                                null|                -|            -|                 -|                     -|                      -|                                     -|                                 -|                                       -|                                           -|                               null|                  6| Financial Distric...|POINT (-122.39563...|\n",
      "|  30010028|   E01|       3000020|  Structure Fire|               Other|  3RD ST/HOWARD ST|  SF|            94105|      B03|         01|2177|               3|       3|            3|  false|         null|             1|  ENGINE|                         1|                     3|                 6|             Financial Distric...|(37.785030284888,...|030010028-E01|                  9|                      6|                     2|                               8|   28853|                 6|              2|                                   null|     null|                                   null|2003-01-01 00:00:00|2002-12-31 00:00:00|2003-01-01 00:31:28|2003-01-01 00:31:28|2003-01-01 00:31:46|          null|               null|           null|          null|2003-01-01 00:32:46|       3000020|              0|30000200|3rd St. / Howard St.|2003-01-01 00:00:00|   30010028|2003-01-01 00:31:46|2003-01-01 00:32:46|2003-01-01 00:32:46|  SF|  94105|      B03|          01|2177|                2|                    9|        0|            0|          0|              0|               null|                      0|                    0.0|              0|            0|                  0|                0|               1|711 - Municipal a...|      None|    86 - Investigate|                     -|                 -|                         -|963 - Street or r...|                  -|             -|                      -|                        -|          -|                 -|                                     -|             -|               -|                null|          -|          null|                                null|                                    null|                              null|                                null|                -|            -|                 -|                     -|                      -|                                     -|                                 -|                                       -|                                           -|                               null|                  6| Financial Distric...|POINT (-122.40047...|\n",
      "|  30010028|   T01|       3000020|  Structure Fire|               Other|  3RD ST/HOWARD ST|  SF|            94105|      B03|         01|2177|               3|       3|            3|  false|         null|             1|   TRUCK|                         2|                     3|                 6|             Financial Distric...|(37.785030284888,...|030010028-T01|                  9|                      6|                     2|                               8|   28853|                 6|              2|                                   null|     null|                                   null|2003-01-01 00:00:00|2002-12-31 00:00:00|2003-01-01 00:31:28|2003-01-01 00:31:28|2003-01-01 00:31:46|          null|               null|           null|          null|2003-01-01 00:32:46|       3000020|              0|30000200|3rd St. / Howard St.|2003-01-01 00:00:00|   30010028|2003-01-01 00:31:46|2003-01-01 00:32:46|2003-01-01 00:32:46|  SF|  94105|      B03|          01|2177|                2|                    9|        0|            0|          0|              0|               null|                      0|                    0.0|              0|            0|                  0|                0|               1|711 - Municipal a...|      None|    86 - Investigate|                     -|                 -|                         -|963 - Street or r...|                  -|             -|                      -|                        -|          -|                 -|                                     -|             -|               -|                null|          -|          null|                                null|                                    null|                              null|                                null|                -|            -|                 -|                     -|                      -|                                     -|                                 -|                                       -|                                           -|                               null|                  6| Financial Distric...|POINT (-122.40047...|\n",
      "+----------+------+--------------+----------------+--------------------+------------------+----+-----------------+---------+-----------+----+----------------+--------+-------------+-------+-------------+--------------+--------+--------------------------+----------------------+------------------+---------------------------------+--------------------+-------------+-------------------+-----------------------+----------------------+--------------------------------+--------+------------------+---------------+---------------------------------------+---------+---------------------------------------+-------------------+-------------------+-------------------+-------------------+-------------------+--------------+-------------------+---------------+--------------+-------------------+--------------+---------------+--------+--------------------+-------------------+-----------+-------------------+-------------------+-------------------+----+-------+---------+------------+----+-----------------+---------------------+---------+-------------+-----------+---------------+-------------------+-----------------------+-----------------------+---------------+-------------+-------------------+-----------------+----------------+--------------------+----------+--------------------+----------------------+------------------+--------------------------+--------------------+-------------------+--------------+-----------------------+-------------------------+-----------+------------------+--------------------------------------+--------------+----------------+--------------------+-----------+--------------+------------------------------------+----------------------------------------+----------------------------------+------------------------------------+-----------------+-------------+------------------+----------------------+-----------------------+--------------------------------------+----------------------------------+----------------------------------------+--------------------------------------------+-----------------------------------+-------------------+---------------------+--------------------+\n",
      "only showing top 3 rows\n",
      "\n"
     ]
    }
   ],
   "source": [
    "joinedDf.show(3)"
   ]
  },
  {
   "cell_type": "code",
   "execution_count": 43,
   "metadata": {},
   "outputs": [
    {
     "data": {
      "text/plain": [
       "1550065"
      ]
     },
     "execution_count": 43,
     "metadata": {},
     "output_type": "execute_result"
    }
   ],
   "source": [
    "joinedDf.count()"
   ]
  },
  {
   "cell_type": "code",
   "execution_count": 44,
   "metadata": {},
   "outputs": [
    {
     "data": {
      "text/plain": [
       "8673"
      ]
     },
     "execution_count": 44,
     "metadata": {},
     "output_type": "execute_result"
    }
   ],
   "source": [
    "from pyspark.sql.functions import col\n",
    "\n",
    "joinedDf.filter(year('CallDateTS') == '2015')\\\n",
    "        .filter(col('Neighborhooods_AnalysisBoundaries') == 'Tenderloin') \\\n",
    "        .count()"
   ]
  },
  {
   "cell_type": "code",
   "execution_count": 45,
   "metadata": {
    "scrolled": false
   },
   "outputs": [
    {
     "name": "stdout",
     "output_type": "stream",
     "text": [
      "+------------------------------------------------------+-----+\n",
      "|Primary Situation                                     |count|\n",
      "+------------------------------------------------------+-----+\n",
      "|700 False alarm or false call, other                  |1395 |\n",
      "|711 Municipal alarm system, malicious false alarm     |1011 |\n",
      "|735 Alarm system sounded due to malfunction           |572  |\n",
      "|743 Smoke detector activation, no fire - unintentional|572  |\n",
      "|500 Service Call, other                               |490  |\n",
      "|113 Cooking fire, confined to container               |489  |\n",
      "|745 Alarm system activation, no fire - unintentional  |437  |\n",
      "|733 Smoke detector activation due to malfunction      |405  |\n",
      "|100 Fire, other                                       |202  |\n",
      "|600 Good intent call, other                           |179  |\n",
      "|323 Motor vehicle/pedestrian accident (MV Ped)        |167  |\n",
      "|111 Building fire                                     |164  |\n",
      "|322 Motor vehicle accident with injuries              |149  |\n",
      "|740 Unintentional transmission of alarm, other        |143  |\n",
      "|353 Removal of victim(s) from stalled elevator        |140  |\n",
      "+------------------------------------------------------+-----+\n",
      "only showing top 15 rows\n",
      "\n"
     ]
    }
   ],
   "source": [
    "## The primary non medical reason most people called the Fire department from Tenderloin in 2015.\n",
    "\n",
    "from pyspark.sql.functions import desc\n",
    "\n",
    "\n",
    "joinedDf.filter(year('CallDateTS') == '2015')\\\n",
    "        .filter(col('Neighborhooods_AnalysisBoundaries') == 'Tenderloin') \\\n",
    "        .groupBy('Primary Situation') \\\n",
    "        .count() \\\n",
    "        .orderBy(desc('count')) \\\n",
    "        .show(15, False)"
   ]
  },
  {
   "cell_type": "markdown",
   "metadata": {},
   "source": [
    "#### Most of the calls were \"False alarm or false call\" from Tenderloin in 2015."
   ]
  },
  {
   "cell_type": "markdown",
   "metadata": {},
   "source": [
    "## What do residents of Russian Hill call the fire department for?"
   ]
  },
  {
   "cell_type": "code",
   "execution_count": 46,
   "metadata": {},
   "outputs": [
    {
     "name": "stdout",
     "output_type": "stream",
     "text": [
      "+------------------------------------------------------+-----+\n",
      "|Primary Situation                                     |count|\n",
      "+------------------------------------------------------+-----+\n",
      "|500 Service Call, other                               |332  |\n",
      "|700 False alarm or false call, other                  |318  |\n",
      "|711 Municipal alarm system, malicious false alarm     |143  |\n",
      "|111 Building fire                                     |104  |\n",
      "|322 Motor vehicle accident with injuries              |93   |\n",
      "|113 Cooking fire, confined to container               |79   |\n",
      "|100 Fire, other                                       |61   |\n",
      "|745 Alarm system activation, no fire - unintentional  |60   |\n",
      "|600 Good intent call, other                           |57   |\n",
      "|323 Motor vehicle/pedestrian accident (MV Ped)        |54   |\n",
      "|743 Smoke detector activation, no fire - unintentional|48   |\n",
      "|324 Motor vehicle accident with no injuries.          |48   |\n",
      "|531 Smoke or odor removal                             |45   |\n",
      "|733 Smoke detector activation due to malfunction      |32   |\n",
      "|740 Unintentional transmission of alarm, other        |30   |\n",
      "|651 Smoke scare, odor of smoke                        |29   |\n",
      "|112 Fires in structure other than in a building       |29   |\n",
      "|311 Medical assist, assist EMS crew                   |27   |\n",
      "|251 Excessive heat, scorch burns with no ignition     |27   |\n",
      "|735 Alarm system sounded due to malfunction           |26   |\n",
      "+------------------------------------------------------+-----+\n",
      "only showing top 20 rows\n",
      "\n"
     ]
    }
   ],
   "source": [
    "joinedDf.filter(year('CallDateTS') == '2015')\\\n",
    "        .filter(col('Neighborhooods_AnalysisBoundaries') == 'Russian Hill') \\\n",
    "        .groupBy('Primary Situation') \\\n",
    "        .count() \\\n",
    "        .orderBy(desc('count')) \\\n",
    "        .show(20, False)"
   ]
  },
  {
   "cell_type": "markdown",
   "metadata": {},
   "source": [
    "#### Most of the calls were \"Service Call, other\" from Russian Hill."
   ]
  },
  {
   "cell_type": "markdown",
   "metadata": {},
   "source": [
    "## What do residents of Pacific Heights call the fire department for in 2016?"
   ]
  },
  {
   "cell_type": "code",
   "execution_count": 47,
   "metadata": {},
   "outputs": [
    {
     "name": "stdout",
     "output_type": "stream",
     "text": [
      "+------------------------------------------------------+-----+\n",
      "|Primary Situation                                     |count|\n",
      "+------------------------------------------------------+-----+\n",
      "|700 False alarm or false call, other                  |464  |\n",
      "|743 Smoke detector activation, no fire - unintentional|238  |\n",
      "|711 Municipal alarm system, malicious false alarm     |124  |\n",
      "|745 Alarm system activation, no fire - unintentional  |122  |\n",
      "|730 System malfunction, other                         |120  |\n",
      "|322 Motor vehicle accident with injuries              |94   |\n",
      "|113 Cooking fire, confined to container               |92   |\n",
      "|100 Fire, other                                       |79   |\n",
      "|733 Smoke detector activation due to malfunction      |76   |\n",
      "|111 Building fire                                     |74   |\n",
      "|735 Alarm system sounded due to malfunction           |73   |\n",
      "|740 Unintentional transmission of alarm, other        |70   |\n",
      "|500 Service Call, other                               |70   |\n",
      "|531 Smoke or odor removal                             |66   |\n",
      "|600 Good intent call, other                           |45   |\n",
      "|311 Medical assist, assist EMS crew                   |42   |\n",
      "|651 Smoke scare, odor of smoke                        |41   |\n",
      "|118 Trash or rubbish fire, contained                  |37   |\n",
      "|300 Rescue, EMS incident, other                       |35   |\n",
      "|744 Detector activation, no fire - unintentional      |33   |\n",
      "+------------------------------------------------------+-----+\n",
      "only showing top 20 rows\n",
      "\n"
     ]
    }
   ],
   "source": [
    "joinedDf.filter(year('CallDateTS') == '2016')\\\n",
    "        .filter(col('Neighborhooods_AnalysisBoundaries') == 'Pacific Heights') \\\n",
    "        .groupBy('Primary Situation') \\\n",
    "        .count() \\\n",
    "        .orderBy(desc('count')) \\\n",
    "        .show(20, False)"
   ]
  },
  {
   "cell_type": "markdown",
   "metadata": {},
   "source": [
    "#### Most of the calls were \"False alarm\" from Pacific Heights in 2016."
   ]
  }
 ],
 "metadata": {
  "kernelspec": {
   "display_name": "Python 3",
   "language": "python",
   "name": "python3"
  },
  "language_info": {
   "codemirror_mode": {
    "name": "ipython",
    "version": 3
   },
   "file_extension": ".py",
   "mimetype": "text/x-python",
   "name": "python",
   "nbconvert_exporter": "python",
   "pygments_lexer": "ipython3",
   "version": "3.6.9"
  }
 },
 "nbformat": 4,
 "nbformat_minor": 2
}
